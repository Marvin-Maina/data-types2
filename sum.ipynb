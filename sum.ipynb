{
 "cells": [
  {
   "cell_type": "markdown",
   "id": "07ccce9f",
   "metadata": {},
   "source": [
    "Write a program that uses a for loop to calculate the sum of numbers from 1 to a given number entered by the user.\n"
   ]
  },
  {
   "cell_type": "code",
   "execution_count": 2,
   "id": "548edd50",
   "metadata": {},
   "outputs": [
    {
     "name": "stdout",
     "output_type": "stream",
     "text": [
      "The sum of first 20 numbers is: 210\n"
     ]
    }
   ],
   "source": [
    "n = int(input(\"Enter the value of n: \"))\n",
    "sum = 0\n",
    "for i in range(1, n + 1):\n",
    "    sum += i\n",
    "print(\"The sum of first\", n, \"numbers is:\", sum)"
   ]
  }
 ],
 "metadata": {
  "kernelspec": {
   "display_name": ".venv",
   "language": "python",
   "name": "python3"
  },
  "language_info": {
   "codemirror_mode": {
    "name": "ipython",
    "version": 3
   },
   "file_extension": ".py",
   "mimetype": "text/x-python",
   "name": "python",
   "nbconvert_exporter": "python",
   "pygments_lexer": "ipython3",
   "version": "3.13.2"
  }
 },
 "nbformat": 4,
 "nbformat_minor": 5
}
