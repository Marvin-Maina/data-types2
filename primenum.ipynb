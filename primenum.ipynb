{
 "cells": [
  {
   "cell_type": "markdown",
   "id": "edd3bd73",
   "metadata": {},
   "source": [
    "Write a program that uses a while loop to check if a number entered by the user is a prime number (divisible only by 1 and itself)."
   ]
  },
  {
   "cell_type": "code",
   "execution_count": 9,
   "id": "b54e7996",
   "metadata": {},
   "outputs": [
    {
     "name": "stdout",
     "output_type": "stream",
     "text": [
      "The entered number is not a PRIME number\n"
     ]
    }
   ],
   "source": [
    "num = int(input(\"Enter a number ( greater than 1)\"))  \n",
    "f = 0\n",
    "i = 2\n",
    "while i <= num / 2:\n",
    "    if num % i == 0:\n",
    "        f=1\n",
    "        break\n",
    "    i=i+1\n",
    "    \n",
    "if f==0:\n",
    "    print(\"The entered number is a PRIME number\")\n",
    "else:\n",
    "    print(\"The entered number is not a PRIME number\")\n",
    " \n"
   ]
  }
 ],
 "metadata": {
  "kernelspec": {
   "display_name": ".venv",
   "language": "python",
   "name": "python3"
  },
  "language_info": {
   "codemirror_mode": {
    "name": "ipython",
    "version": 3
   },
   "file_extension": ".py",
   "mimetype": "text/x-python",
   "name": "python",
   "nbconvert_exporter": "python",
   "pygments_lexer": "ipython3",
   "version": "3.13.2"
  }
 },
 "nbformat": 4,
 "nbformat_minor": 5
}
