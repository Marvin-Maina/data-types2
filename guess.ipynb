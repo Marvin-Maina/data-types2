{
 "cells": [
  {
   "cell_type": "markdown",
   "id": "f31479e2",
   "metadata": {},
   "source": [
    "Write a program that generates a random number between 1 and 100. The user has to guess the number in a limited number of attempts. Provide feedback after each guess (higher, lower, or correct).\n"
   ]
  },
  {
   "cell_type": "code",
   "execution_count": 11,
   "id": "66af171b",
   "metadata": {},
   "outputs": [
    {
     "name": "stdout",
     "output_type": "stream",
     "text": [
      "TOO HOT\n",
      "TOO COLD\n",
      "Womp womp better luck next time the number was 82\n"
     ]
    }
   ],
   "source": [
    "import random\n",
    "\n",
    "num_to_guess = random.randrange(100)\n",
    "\n",
    "chances = 3\n",
    "\n",
    "x = 0\n",
    "\n",
    "while x < chances:\n",
    "    x += 1\n",
    "    g = int(input(\"Guess a number: \"))\n",
    "\n",
    "    if g == num_to_guess:\n",
    "        print(\"Winner winner chicken dinner\")\n",
    "        break\n",
    "    elif x >= chances and g != chances:\n",
    "        print(f\"Womp womp better luck next time the number was {num_to_guess}\")\n",
    "\n",
    "    elif g > num_to_guess:\n",
    "        print(\"TOO HOT\")\n",
    "    elif g < num_to_guess:\n",
    "        print (\"TOO COLD\")\n",
    "\n",
    "     \n",
    "\n",
    "\n"
   ]
  }
 ],
 "metadata": {
  "kernelspec": {
   "display_name": ".venv",
   "language": "python",
   "name": "python3"
  },
  "language_info": {
   "codemirror_mode": {
    "name": "ipython",
    "version": 3
   },
   "file_extension": ".py",
   "mimetype": "text/x-python",
   "name": "python",
   "nbconvert_exporter": "python",
   "pygments_lexer": "ipython3",
   "version": "3.13.2"
  }
 },
 "nbformat": 4,
 "nbformat_minor": 5
}
