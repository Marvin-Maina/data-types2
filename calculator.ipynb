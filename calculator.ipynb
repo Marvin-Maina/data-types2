{
 "cells": [
  {
   "cell_type": "markdown",
   "id": "c28df62c",
   "metadata": {},
   "source": [
    "Write a program that allows the user to enter two numbers and an operator (+, -, *, /) and perform the corresponding calculation. Use conditional statements to handle different operators\n"
   ]
  },
  {
   "cell_type": "code",
   "execution_count": 1,
   "id": "fd824255",
   "metadata": {},
   "outputs": [
    {
     "name": "stdout",
     "output_type": "stream",
     "text": [
      "20.0 + 30.0 is 50.0\n"
     ]
    }
   ],
   "source": [
    "num1 = float(input(\"Enter value 1: \"))\n",
    "num2 = float(input(\"Enter value 2: \"))\n",
    "operator = input(\"Enter an operator out of these (+, -, *, /): \")\n",
    "\n",
    "if operator == \"+\":\n",
    "    result = num1 + num2\n",
    "    print (f\"{num1} + {num2} is {result}\")\n",
    "elif operator == \"-\":\n",
    "    result = num1 - num2\n",
    "    print(f'{num1} - {num2} is {result}')\n",
    "elif operator == '*':\n",
    "    result = num1 * num2\n",
    "    print(f\"{num1} * {num2} is {result} \")\n",
    "elif operator == '/':\n",
    "    if num2 == 0:\n",
    "        print(\"Error cant divide by 0\")\n",
    "    else:\n",
    "        result = num1 / num2\n",
    "        print(f\"{num1} / {num2} is {result}\")\n",
    "else:\n",
    "    print(\"unexpected operator\")\n",
    "\n",
    "\n",
    "    \n",
    "\n",
    "\n"
   ]
  }
 ],
 "metadata": {
  "kernelspec": {
   "display_name": ".venv",
   "language": "python",
   "name": "python3"
  },
  "language_info": {
   "codemirror_mode": {
    "name": "ipython",
    "version": 3
   },
   "file_extension": ".py",
   "mimetype": "text/x-python",
   "name": "python",
   "nbconvert_exporter": "python",
   "pygments_lexer": "ipython3",
   "version": "3.13.2"
  }
 },
 "nbformat": 4,
 "nbformat_minor": 5
}
