{
 "cells": [
  {
   "cell_type": "code",
   "execution_count": 1,
   "id": "eaa66a09",
   "metadata": {},
   "outputs": [
    {
     "name": "stdout",
     "output_type": "stream",
     "text": [
      "hello world\n"
     ]
    }
   ],
   "source": [
    "print(\"hello world\")"
   ]
  },
  {
   "cell_type": "code",
   "execution_count": null,
   "id": "9e43dc4d",
   "metadata": {},
   "outputs": [
    {
     "name": "stdout",
     "output_type": "stream",
     "text": [
      "RACOON CITY\n",
      "racoon city\n",
      "Racoon City\n",
      "RACOON CITY\n",
      "True\n",
      "False\n",
      "True\n",
      "red blue green yellow\n",
      "dante is 30 years old\n"
     ]
    }
   ],
   "source": [
    "text = 'racoon city'\n",
    "print(text.upper())\n",
    "print(text.lower())\n",
    "print(text.title())\n",
    "print(text.swapcase())\n",
    "\n",
    "text2 = '12ab'\n",
    "text3 = \" \"\n",
    "print(text2.isalnum())\n",
    "print(text2.isalpha())\n",
    "print(text3.isspace())\n",
    "\n",
    "colors = 'red,blue,green,yellow'.split(\",\")\n",
    "joined = \" \" .join(colors)\n",
    "print(joined)\n",
    "\n",
    "name = input (\"Enter your name: \")\n",
    "age = int(input(\"Enter your age: \"))\n",
    "\n",
    "print(f\"{name} is {age} years old\")\n",
    "\n"
   ]
  },
  {
   "cell_type": "code",
   "execution_count": 6,
   "id": "591ac4c9",
   "metadata": {},
   "outputs": [
    {
     "name": "stdout",
     "output_type": "stream",
     "text": [
      "Hello there,\n",
      "\"How are you?\"\n"
     ]
    }
   ],
   "source": [
    "s = \"Hello there,\\n\\\"How are you?\\\"\"\n",
    "print(s)"
   ]
  },
  {
   "cell_type": "code",
   "execution_count": 15,
   "id": "c5566de2",
   "metadata": {},
   "outputs": [
    {
     "name": "stdout",
     "output_type": "stream",
     "text": [
      "2.5\n"
     ]
    }
   ],
   "source": [
    "\n",
    "import math\n",
    "\n",
    "hours = float(input(\"Enter amount of hours: \"))\n",
    "\n",
    "rate = float(input(\"Enter rate: \"))\n",
    "\n",
    "pay = (hours * rate)\n",
    "print(round(math.sqrt(pay),2))"
   ]
  },
  {
   "cell_type": "code",
   "execution_count": 16,
   "id": "ed8ab842",
   "metadata": {},
   "outputs": [
    {
     "name": "stdout",
     "output_type": "stream",
     "text": [
      "<class 'int'>\n",
      "<class 'float'>\n",
      "<class 'float'>\n",
      "<class 'int'>\n"
     ]
    }
   ],
   "source": [
    "width = 17\n",
    "height = 12.0\n",
    "\n",
    "result1 = width // 2\n",
    "result2 = width/2.0\n",
    "result3 = height/3\n",
    "result4 = (1 + 2*5)\n",
    "\n",
    "print(type(result1))\n",
    "print(type(result2))\n",
    "print(type(result3))\n",
    "print(type(result4))\n",
    "\n"
   ]
  },
  {
   "cell_type": "code",
   "execution_count": 23,
   "id": "e754598d",
   "metadata": {},
   "outputs": [
    {
     "name": "stdout",
     "output_type": "stream",
     "text": [
      "You are an adult\n"
     ]
    }
   ],
   "source": [
    "age = 24\n",
    "if age  < 13:\n",
    "    print(\"You are a child\")\n",
    "elif age < 20:\n",
    "    print(\"You are a teenager\")\n",
    "else: \n",
    "    print(\"You are an adult\")"
   ]
  },
  {
   "cell_type": "code",
   "execution_count": 24,
   "id": "3bb84a09",
   "metadata": {},
   "outputs": [
    {
     "name": "stdout",
     "output_type": "stream",
     "text": [
      "0\n",
      "1\n",
      "2\n",
      "3\n",
      "4\n",
      "5\n"
     ]
    }
   ],
   "source": [
    "for i in range(6):\n",
    "    print(i)"
   ]
  },
  {
   "cell_type": "code",
   "execution_count": 26,
   "id": "39128cde",
   "metadata": {},
   "outputs": [
    {
     "name": "stdout",
     "output_type": "stream",
     "text": [
      "dracarys\n",
      "dracarys\n",
      "dracarys\n",
      "dracarys\n",
      "dracarys\n",
      "dracarys\n",
      "dracarys\n",
      "dracarys\n",
      "dracarys\n",
      "dracarys\n"
     ]
    }
   ],
   "source": [
    "n = int(input(\"How many times to say dracarys\"))\n",
    "for i in range(n):\n",
    "    print(\"dracarys\")"
   ]
  },
  {
   "cell_type": "code",
   "execution_count": 27,
   "id": "a4278db8",
   "metadata": {},
   "outputs": [
    {
     "name": "stdout",
     "output_type": "stream",
     "text": [
      "Access granted\n"
     ]
    }
   ],
   "source": [
    "password = \"\" \n",
    "while password != \"pass123#\":\n",
    "    password =  input(\"Enter password: \")\n",
    "\n",
    "print(\"Access granted\")    \n"
   ]
  },
  {
   "cell_type": "code",
   "execution_count": null,
   "id": "b05cc736",
   "metadata": {},
   "outputs": [],
   "source": []
  }
 ],
 "metadata": {
  "kernelspec": {
   "display_name": ".venv",
   "language": "python",
   "name": "python3"
  },
  "language_info": {
   "codemirror_mode": {
    "name": "ipython",
    "version": 3
   },
   "file_extension": ".py",
   "mimetype": "text/x-python",
   "name": "python",
   "nbconvert_exporter": "python",
   "pygments_lexer": "ipython3",
   "version": "3.13.2"
  }
 },
 "nbformat": 4,
 "nbformat_minor": 5
}
